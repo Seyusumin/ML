{
  "nbformat": 4,
  "nbformat_minor": 0,
  "metadata": {
    "colab": {
      "provenance": []
    },
    "kernelspec": {
      "name": "python3",
      "display_name": "Python 3"
    },
    "language_info": {
      "name": "python"
    }
  },
  "cells": [
    {
      "cell_type": "code",
      "execution_count": null,
      "metadata": {
        "id": "EzqDH1WLPkHb"
      },
      "outputs": [],
      "source": [
        "import cv2\n",
        "import os\n",
        "from google.colab.patches import cv2_imshow"
      ]
    },
    {
      "cell_type": "code",
      "source": [
        "dataPath = '/content/drive/MyDrive/phytton/ML/RECONOCIMIENTO FACIAL/Fotos/Jennie' #ruta donde esta la Data\n",
        "imagePaths = os.listdir(dataPath)\n",
        "print('imagePaths=',imagePaths)\n",
        "\n",
        "face_recognizer = cv2.face.LBPHFaceRecognizer_create()\n",
        "# Leyendo el modelo\n",
        "\n",
        "face_recognizer.read('modeloLBPHFace.xml')\n",
        "\n",
        "cap = cv2.VideoCapture('Video.mp4')"
      ],
      "metadata": {
        "id": "WIe6XRopPv_W"
      },
      "execution_count": null,
      "outputs": []
    },
    {
      "cell_type": "code",
      "source": [
        "faceClassif = cv2.CascadeClassifier(cv2.data.haarcascades+'haarcascade_frontalface_default.xml')"
      ],
      "metadata": {
        "id": "WqkBR2c-Pv8Q"
      },
      "execution_count": null,
      "outputs": []
    },
    {
      "cell_type": "code",
      "source": [
        "while True:\n",
        "    ret,frame = cap.read()\n",
        "    if ret == False: break\n",
        "    gray = cv2.cvtColor(frame, cv2.COLOR_BGR2GRAY)\n",
        "    auxFrame = gray.copy()\n",
        "    \n",
        "    faces = faceClassif.detectMultiScale(gray,1.3,5)\n",
        "    \n",
        "    for (x,y,w,h) in faces:\n",
        "        rostro = auxFrame[y:y+h,x:x+w]\n",
        "        rostro = cv2.resize(rostro,(150,150),interpolation= cv2.INTER_CUBIC)\n",
        "        result = face_recognizer.predict(rostro)\n",
        "        \n",
        "        cv2.putText(frame,'{}'.format(result),(x,y-5),1,1.3,(255,255,0),1,cv2.LINE_AA)\n",
        "\n",
        "\n",
        "        if result[1] < 70:\n",
        "            cv2.putText(frame,'{}'.format(imagePaths[result[0]]),(x,y-25),2,1.1,(0,255,0),1,cv2.LINE_AA)\n",
        "            cv2.rectangle(frame, (x,y),(x+w,y+h),(0,255,0),2)\n",
        "        else:\n",
        "            cv2.putText(frame,'Desconocido',(x,y-20),2,0.8,(0,0,255),1,cv2.LINE_AA)\n",
        "            cv2.rectangle(frame, (x,y),(x+w,y+h),(0,0,255),2)\n",
        "\n",
        "    cv2_imshow(frame)\n",
        "    k = cv2.waitKey(1)\n",
        "    if k == 27:\n",
        "        break\n",
        "cap.release()\n",
        "cv2.destroyAllWindows()"
      ],
      "metadata": {
        "id": "KSNOvaKgPv6B"
      },
      "execution_count": null,
      "outputs": []
    },
    {
      "cell_type": "code",
      "source": [],
      "metadata": {
        "id": "tv3aWEa_QSmy"
      },
      "execution_count": null,
      "outputs": []
    }
  ]
}