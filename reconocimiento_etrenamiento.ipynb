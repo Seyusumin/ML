{
  "nbformat": 4,
  "nbformat_minor": 0,
  "metadata": {
    "colab": {
      "provenance": []
    },
    "kernelspec": {
      "name": "python3",
      "display_name": "Python 3"
    },
    "language_info": {
      "name": "python"
    }
  },
  "cells": [
    {
      "cell_type": "code",
      "execution_count": 2,
      "metadata": {
        "id": "XhNsAvHztpqo"
      },
      "outputs": [],
      "source": [
        "import cv2\n",
        "import numpy as np\n",
        "import os\n",
        "import imutils\n",
        "from google.colab.patches import cv2_imshow"
      ]
    },
  
    {
      "cell_type": "code",
      "source": [
        "dataPath = \"/content/drive/MyDrive/phytton/ML/RECONOCIMIENTO FACIAL/Fotos/Jennie\"\n",
        "\n",
        "peopleList = os.listdir(dataPath)\n",
        "print(\"Lista de personas: \", peopleList)\n",
        "\n",
        "labels = []\n",
        "facesData = []\n",
        "label = 0\n",
        "\n",
        "for nameDir in peopleList:\n",
        "    personPath = dataPath + \"/\" + nameDir\n",
        "    print(\"LLeyendo las imagenes\")\n",
        "\n",
        "    for fileName in os.listdir(personPath): \n",
        "        print(\"Rostros: \", nameDir + \"/\" + fileName)\n",
        "        labels.append(label)\n",
        "        facesData.append(cv2.imread(personPath+\"/\"+fileName,0))\n",
        "        image = cv2.imread(personPath+'/'+fileName,0)\n",
        "       \n",
        "    label = label + 1\n",
        "       \n",
        "\n",
        "print(\"labels= \",labels) \n",
        "#entrenando el reconocedor\n",
        "face_recognizer = cv2.face.LBPHFaceRecognizer_create()\n",
        "\n",
        "\n",
        "print(\"Entrenando...\")\n",
        "face_recognizer.train(facesData, np.array(labels))"
      ],
      "metadata": {
        "id": "shAKu-EwD5xY"
      },
      "execution_count": null,
      "outputs": []
    },
    {
      "cell_type": "code",
      "source": [
        "#Almacenando el modelo\n",
        "face_recognizer.write('modeloLBPHFace.xml')\n",
        "print(\"Modelo almacenado...\")"
      ],
      "metadata": {
        "id": "Nh4rfZhnA7dF"
      },
      "execution_count": null,
      "outputs": []
    },
    {
      "cell_type": "code",
      "source": [],
      "metadata": {
        "id": "KYnzoygAA7gS"
      },
      "execution_count": null,
      "outputs": []
    },
    {
      "cell_type": "code",
      "source": [],
      "metadata": {
        "id": "38IxG_aIA7U_"
      },
      "execution_count": null,
      "outputs": []
    },
    {
      "cell_type": "code",
      "source": [],
      "metadata": {
        "id": "cq3Ni-hKlo7_"
      },
      "execution_count": null,
      "outputs": []
    },
    {
      "cell_type": "code",
      "source": [],
      "metadata": {
        "id": "BwXhPsOXlo5a"
      },
      "execution_count": null,
      "outputs": []
    },
    {
      "cell_type": "code",
      "source": [],
      "metadata": {
        "id": "KjhxmYMclox0"
      },
      "execution_count": null,
      "outputs": []
    }
  ]
}
